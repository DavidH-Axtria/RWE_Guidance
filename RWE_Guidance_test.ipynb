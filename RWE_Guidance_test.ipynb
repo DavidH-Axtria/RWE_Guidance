{
 "cells": [
  {
   "cell_type": "code",
   "execution_count": 7,
   "id": "6dc7bdb5",
   "metadata": {},
   "outputs": [
    {
     "name": "stdout",
     "output_type": "stream",
     "text": [
      "\u001b[1;36mR\u001b[0m\u001b[1;32me\u001b[0m\u001b[1;31ma\u001b[0m\u001b[1;34ml\u001b[0m\u001b[1;35m \u001b[0m\u001b[1;34mW\u001b[0m\u001b[1;35mo\u001b[0m\u001b[1;32mr\u001b[0m\u001b[1;33ml\u001b[0m\u001b[1;34md\u001b[0m\u001b[1;34m \u001b[0m\u001b[1;33mE\u001b[0m\u001b[1;36mv\u001b[0m\u001b[1;33mi\u001b[0m\u001b[1;36md\u001b[0m\u001b[1;36me\u001b[0m\u001b[1;32mn\u001b[0m\u001b[1;31mc\u001b[0m\u001b[1;33me\u001b[0m\u001b[1;32m:\u001b[0m\u001b[1;34m \u001b[0m\u001b[1;34mG\u001b[0m\u001b[1;33mu\u001b[0m\u001b[1;33mi\u001b[0m\u001b[1;33md\u001b[0m\u001b[1;36ma\u001b[0m\u001b[1;32mn\u001b[0m\u001b[1;36mc\u001b[0m\u001b[1;30me\u001b[0m\u001b[1;31m \u001b[0m\u001b[1;36md\u001b[0m\u001b[1;34mo\u001b[0m\u001b[1;36mc\u001b[0m\u001b[1;31ms\u001b[0m"
     ]
    }
   ],
   "source": [
    "import random\n",
    "\n",
    "# String to print\n",
    "text = \"Real World Evidence: Guidance docs\"\n",
    "\n",
    "# List of all possible colors\n",
    "colors = ['red', 'green', 'blue', 'cyan', 'magenta', 'yellow', 'black']\n",
    "\n",
    "# Iterate through the characters in the string\n",
    "for char in text:\n",
    "    # Generate a random color\n",
    "    color = random.choice(colors)\n",
    "    # Print the character with the random color\n",
    "    print(f\"\\033[1;{30 + colors.index(color)}m{char}\\033[0m\", end=\"\")\n"
   ]
  }
 ],
 "metadata": {
  "kernelspec": {
   "display_name": "Python 3 (ipykernel)",
   "language": "python",
   "name": "python3"
  },
  "language_info": {
   "codemirror_mode": {
    "name": "ipython",
    "version": 3
   },
   "file_extension": ".py",
   "mimetype": "text/x-python",
   "name": "python",
   "nbconvert_exporter": "python",
   "pygments_lexer": "ipython3",
   "version": "3.9.13"
  }
 },
 "nbformat": 4,
 "nbformat_minor": 5
}
